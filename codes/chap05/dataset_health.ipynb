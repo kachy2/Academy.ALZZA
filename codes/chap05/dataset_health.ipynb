{
 "cells": [
  {
   "cell_type": "code",
   "execution_count": 1,
   "metadata": {},
   "outputs": [],
   "source": [
    "%run ../chap05/dataset.ipynb"
   ]
  },
  {
   "cell_type": "code",
   "execution_count": 2,
   "metadata": {},
   "outputs": [],
   "source": [
    "class HealthDataset(Dataset):\n",
    "    pass"
   ]
  },
  {
   "cell_type": "code",
   "execution_count": null,
   "metadata": {},
   "outputs": [],
   "source": [
    "def health_init(self, resolution=[100,100], input_shape=[-1]):\n",
    "    super(HealthDataset, self).__init__('health', 'select')\n",
    "    \n",
    "    path = 'C:/Users/inhyeoklee/Documents/bbs/data/health_20200227'\n",
    "    self.target_names = list_dir(path)\n",
    "\n",
    "    images = []\n",
    "    idxs = []\n",
    "  \n",
    "    for dx, dname in enumerate(self.target_names):\n",
    "        subpath = path + '/' + dname\n",
    "        filenames = list_dir(subpath)\n",
    "        for fname in filenames:\n",
    "            if fname[-4:] != '.jpg':\n",
    "                continue\n",
    "            imagepath = os.path.join(subpath, fname)\n",
    "            pixels = load_image_pixels(imagepath, resolution, input_shape)\n",
    "            images.append(pixels)\n",
    "            idxs.append(dx)\n",
    "\n",
    "    self.image_shape = resolution + [3]\n",
    "\n",
    "    xs = np.asarray(images, np.float32)\n",
    "    ys = onehot(idxs, len(self.target_names))\n",
    "    \n",
    "    self.shuffle_data(xs, ys, 0.8)\n",
    "\n",
    "    self.init_visualize_data(resolution, input_shape)\n",
    "    \n",
    "HealthDataset.__init__ = health_init"
   ]
  },
  {
   "cell_type": "code",
   "execution_count": null,
   "metadata": {},
   "outputs": [],
   "source": [
    "def dataset_get_visualize_data(self, count):\n",
    "    self.vi_indices = np.arange(len(self.vi_xs))\n",
    "    #np.random.shuffle(self.vi_indices)\n",
    "\n",
    "    vi_X = self.vi_xs[self.vi_indices[0:count]]\n",
    "    vi_Y = self.vi_ys[self.vi_indices[0:count]]\n",
    "\n",
    "    return vi_X, vi_Y\n",
    "\n",
    "Dataset.get_visualize_data = dataset_get_visualize_data"
   ]
  },
  {
   "cell_type": "code",
   "execution_count": 1,
   "metadata": {},
   "outputs": [],
   "source": [
    "def health_init_visualize_data(self, resolution=[100,100], input_shape=[-1]):\n",
    "    path = 'C:/Users/inhyeoklee/Documents/bbs/data/health_visualize_data_20200227'\n",
    "\n",
    "    images_visual = []\n",
    "    idxs_visual = []\n",
    "\n",
    "    #for dx, dname in enumerate(self.target_names):\n",
    "        #subpath = path + '/' + dname\n",
    "    filenames = list_dir(path)\n",
    "    for fname in filenames:\n",
    "        if fname[-4:] != '.jpg':\n",
    "            continue\n",
    "        imagepath = os.path.join(path, fname)\n",
    "        pixels = load_image_pixels(imagepath, resolution, input_shape)\n",
    "        images_visual.append(pixels)\n",
    "        idxs_visual.append(0)    #any value for visualize_data\n",
    "    \n",
    "    xs_visual = np.asarray(images_visual, np.float32)\n",
    "    ys_visual = onehot(idxs_visual, len(self.target_names))    ##any value for visualize_data\n",
    "    \n",
    "    self.vi_xs = xs_visual\n",
    "    self.vi_ys = ys_visual\n",
    "    \n",
    "HealthDataset.init_visualize_data = health_init_visualize_data"
   ]
  },
  {
   "cell_type": "code",
   "execution_count": 4,
   "metadata": {},
   "outputs": [],
   "source": [
    "def health_visualize(self, xs, estimates, answers):\n",
    "    draw_images_horz(xs, self.image_shape)\n",
    "    show_health_estimation_score_results(estimates, answers, self.target_names)\n",
    "\n",
    "HealthDataset.visualize = health_visualize"
   ]
  }
 ],
 "metadata": {
  "kernelspec": {
   "display_name": "Python 3",
   "language": "python",
   "name": "python3"
  },
  "language_info": {
   "codemirror_mode": {
    "name": "ipython",
    "version": 3
   },
   "file_extension": ".py",
   "mimetype": "text/x-python",
   "name": "python",
   "nbconvert_exporter": "python",
   "pygments_lexer": "ipython3",
   "version": "3.7.3"
  }
 },
 "nbformat": 4,
 "nbformat_minor": 2
}
